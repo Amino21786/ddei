{
 "cells": [
  {
   "cell_type": "markdown",
   "metadata": {},
   "source": [
    "## Prepare masks\n",
    "\n",
    "Simulate 2D+t Gaussian Cartesian random subsampling masks at varying accelerations using the [`deepinv`](https://deepinv.github.io) library."
   ]
  },
  {
   "cell_type": "code",
   "execution_count": null,
   "metadata": {},
   "outputs": [],
   "source": [
    "A = 8 # acceleration"
   ]
  },
  {
   "cell_type": "code",
   "execution_count": 2,
   "metadata": {},
   "outputs": [],
   "source": [
    "%cd ..\n",
    "import os, pickle\n",
    "from pathlib import Path\n",
    "from tqdm import tqdm\n",
    "\n",
    "import numpy as np\n",
    "from scipy.io import savemat\n",
    "import torch\n",
    "\n",
    "from deepinv.physics.generator import GaussianMaskGenerator\n",
    "\n",
    "from utils.utils import set_posix_windows"
   ]
  },
  {
   "cell_type": "code",
   "execution_count": 3,
   "metadata": {},
   "outputs": [],
   "source": [
    "root = Path(\"M:/data/CMRxRecon\")\n",
    "set_name = \"TrainingSet\"\n",
    "root = root / \"SingleCoil/Cine\" / set_name\n",
    "acc_folder = \"FullSample\"\n",
    "new_mask_folder = \"TimeVaryingGaussianMask\" + str(A).zfill(2)"
   ]
  },
  {
   "cell_type": "code",
   "execution_count": 4,
   "metadata": {},
   "outputs": [],
   "source": [
    "seed = 0\n",
    "rng = np.random.default_rng(seed)\n",
    "torch.manual_seed(seed)\n",
    "np.random.seed(seed)"
   ]
  },
  {
   "cell_type": "code",
   "execution_count": 5,
   "metadata": {},
   "outputs": [],
   "source": [
    "# Open existing dataset cache\n",
    "with open(\"dataset_cache_windows.pkl\", \"rb\") as f:\n",
    "    with set_posix_windows():\n",
    "        dataset_cache = pickle.load(f)"
   ]
  },
  {
   "cell_type": "code",
   "execution_count": 6,
   "metadata": {},
   "outputs": [
    {
     "name": "stderr",
     "output_type": "stream",
     "text": [
      "  0%|          | 0/1492 [00:00<?, ?it/s]"
     ]
    },
    {
     "name": "stderr",
     "output_type": "stream",
     "text": [
      "100%|██████████| 1492/1492 [00:48<00:00, 31.03it/s]\n"
     ]
    }
   ],
   "source": [
    "# Iterate through existing dataset cache\n",
    "\n",
    "done_fnames = []\n",
    "for sample in tqdm(dataset_cache[root]):\n",
    "    if sample.fname in done_fnames: continue\n",
    "    done_fnames.append(sample.fname)\n",
    "\n",
    "    mask_fname = sample.fname.replace(acc_folder, new_mask_folder)[:-4] + \"_mask.mat\"\n",
    "    os.makedirs(os.path.dirname(mask_fname), exist_ok=True)\n",
    "\n",
    "    generator = GaussianMaskGenerator(\n",
    "        (2, sample.metadata[\"timeframes\"], sample.metadata[\"width\"], sample.metadata[\"height\"]), \n",
    "        acceleration=A, \n",
    "        rng=rng,\n",
    "    )\n",
    "\n",
    "    mask = generator.step()[\"mask\"].detach().numpy().astype(\"uint8\")\n",
    "    mask = mask[0, 0, :, :, :] #only save T,H,W\n",
    "    mask = np.moveaxis(mask, 0, -1) #H, W, T\n",
    "    \n",
    "    savemat(mask_fname, {\"mask\": mask}, do_compression=True)"
   ]
  }
 ],
 "metadata": {
  "kernelspec": {
   "display_name": "venv",
   "language": "python",
   "name": "python3"
  },
  "language_info": {
   "codemirror_mode": {
    "name": "ipython",
    "version": 3
   },
   "file_extension": ".py",
   "mimetype": "text/x-python",
   "name": "python",
   "nbconvert_exporter": "python",
   "pygments_lexer": "ipython3",
   "version": "3.11.5"
  }
 },
 "nbformat": 4,
 "nbformat_minor": 2
}
