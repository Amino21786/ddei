{
 "cells": [
  {
   "cell_type": "markdown",
   "metadata": {},
   "source": [
    "# Fully unsupervised dynamic MRI reconstruction via geometrotemporal equivariance\n",
    "\n",
    "Paper | [Repo](https://github.com/Andrewwango/ddei) | [Website](https://andrewwango.github.io/ddei)"
   ]
  },
  {
   "cell_type": "markdown",
   "metadata": {},
   "source": [
    "![](img/demo_results.gif)"
   ]
  },
  {
   "cell_type": "markdown",
   "metadata": {},
   "source": [
    "**Aim**: reconstruct dynamic MRI videos from accelerated undersampled measurements.\n",
    "\n",
    "**Applications**: real-time cardiac imaging, free-breathing motion, vocal tract speech...\n",
    "\n",
    "**Goals**:\n",
    "\n",
    "- Capture true motion: aperiodicities, irregularities: real-time MRI\n",
    "- Capture higher spatiotemporal resolution with fewer measurements (leading to faster, cheaper, portable MRI)\n",
    "\n",
    "**Why is it hard?** ground truth is impossible to truly obtain! There is no such thing as true fully-sampled dynamic MRI data at the same frame rate. Hence all supervised methods are fundamentally flawed - a [_data crime_](https://www.pnas.org/doi/full/10.1073/pnas.2117203119). The best pseudo-ground-truth, e.g. retrospective gating/cine imaging, must assume periodicity and all methods that use this cannot capture true motion - ultimately what we want to image. Therefore we need unsupervised methods.\n",
    "\n",
    "**Our method** we posit that the unknown set of MRI videos is $G$-invariant. \n",
    "\n",
    "[Equivariant Imaging](https://openaccess.thecvf.com/content/ICCV2021/papers/Chen_Equivariant_Imaging_Learning_Beyond_the_Range_Space_ICCV_2021_paper.pdf)\n",
    "\n",
    "etc.\n",
    "\n",
    "You can easily implement our method using the [`deepinv`](https://deepinv.github.io) library. See [train.py](train.py) for a full training demo including training and evaluating competitors. For example:"
   ]
  },
  {
   "cell_type": "code",
   "execution_count": 3,
   "metadata": {},
   "outputs": [],
   "source": [
    "import torch\n",
    "from torch.utils.data import DataLoader\n",
    "\n",
    "import deepinv as dinv\n",
    "\n",
    "from utils import Trainer, ArtifactRemovalCRNN, CRNN, DeepinvSliceDataset, CineNetDataTransform"
   ]
  },
  {
   "cell_type": "markdown",
   "metadata": {},
   "source": [
    "### Define dynamic MRI physics:\n",
    "\n",
    "Define accelerated dynamic MRI. We set the (4x, 8x, 16x) undersampling mask on-the-fly as it varies per subject."
   ]
  },
  {
   "cell_type": "code",
   "execution_count": 4,
   "metadata": {},
   "outputs": [],
   "source": [
    "physics = dinv.physics.DynamicMRI(img_size=(1, 2, 12, 512, 256), device=\"cpu\")"
   ]
  },
  {
   "cell_type": "markdown",
   "metadata": {},
   "source": [
    "### Define the DDEI loss function:\n",
    "\n",
    "See [train.py](train.py) for full demo of how to train with competitors' losses using [deepinv](https://deepinv.github.io)."
   ]
  },
  {
   "cell_type": "code",
   "execution_count": 5,
   "metadata": {},
   "outputs": [
    {
     "data": {
      "text/plain": [
       "<Figure size 640x480 with 0 Axes>"
      ]
     },
     "metadata": {},
     "output_type": "display_data"
    },
    {
     "data": {
      "text/plain": [
       "<Figure size 640x480 with 0 Axes>"
      ]
     },
     "metadata": {},
     "output_type": "display_data"
    },
    {
     "data": {
      "text/plain": [
       "<Figure size 640x480 with 0 Axes>"
      ]
     },
     "metadata": {},
     "output_type": "display_data"
    }
   ],
   "source": [
    "transform = dinv.transform.ShiftTime() | (dinv.transform.CPABDiffeomorphism() | dinv.transform.Rotate())\n",
    "loss = [dinv.loss.MCLoss(), dinv.loss.EILoss(transform=transform)]"
   ]
  },
  {
   "cell_type": "markdown",
   "metadata": {},
   "source": [
    "### Define the data:"
   ]
  },
  {
   "cell_type": "code",
   "execution_count": 11,
   "metadata": {},
   "outputs": [
    {
     "name": "stderr",
     "output_type": "stream",
     "text": [
      "100%|██████████| 4/4 [00:02<00:00,  1.74it/s]"
     ]
    },
    {
     "name": "stdout",
     "output_type": "stream",
     "text": [
      "Saving dataset cache file\n"
     ]
    },
    {
     "name": "stderr",
     "output_type": "stream",
     "text": [
      "\n"
     ]
    }
   ],
   "source": [
    "dataset = DeepinvSliceDataset(\n",
    "    root=\"data/CMRxRecon\",\n",
    "    transform=CineNetDataTransform(time_window=12, apply_mask=True, normalize=True), \n",
    "    set_name=\"TrainingSet\",\n",
    "    acc_folders=[\"FullSample\"],\n",
    "    mask_folder=\"TimeVaryingGaussianMask08\",\n",
    "    dataset_cache_file=\"dataset_cache_new.pkl\"\n",
    ")"
   ]
  },
  {
   "cell_type": "markdown",
   "metadata": {},
   "source": [
    "### Define neural network:\n",
    "\n",
    "For $f_\\theta$ we use a very small [CRNN](https://ieeexplore.ieee.org/document/8425639), a lightweight unrolled network with 2 unrolled iterations and 1154 parameters. Our framework is **NN-agnostic** and any state-of-the-art NN can be used as the backbone."
   ]
  },
  {
   "cell_type": "code",
   "execution_count": 12,
   "metadata": {},
   "outputs": [],
   "source": [
    "model = ArtifactRemovalCRNN(CRNN(num_cascades=2)).to(\"cpu\")"
   ]
  },
  {
   "cell_type": "markdown",
   "metadata": {},
   "source": [
    "### Train the network!\n",
    "\n",
    "We train the network using a modified [`deepinv.Trainer`](https://deepinv.github.io/deepinv/stubs/deepinv.Trainer.html). For full training demo, see [train.py](train.py)."
   ]
  },
  {
   "cell_type": "code",
   "execution_count": null,
   "metadata": {},
   "outputs": [],
   "source": [
    "trainer = Trainer(\n",
    "    model = model,\n",
    "    physics = physics,\n",
    "    optimizer = torch.optim.Adam(model.parameters(), lr=1e-3),\n",
    "    train_dataloader = DataLoader(dataset=dataset),\n",
    "    losses = loss,\n",
    "    metrics = dinv.metric.PSNR(complex_abs=True, max_pixel=None)\n",
    ")\n",
    "\n",
    "trainer.train()"
   ]
  },
  {
   "cell_type": "markdown",
   "metadata": {},
   "source": [
    "### Full results\n",
    "\n",
    "Test set example cardiac long axis views (above 2 rows) and short axis slice (below) reconstruction results:\n",
    "\n",
    "![](img/results_fig_1.gif)"
   ]
  },
  {
   "cell_type": "markdown",
   "metadata": {},
   "source": []
  }
 ],
 "metadata": {
  "kernelspec": {
   "display_name": "venv",
   "language": "python",
   "name": "python3"
  },
  "language_info": {
   "codemirror_mode": {
    "name": "ipython",
    "version": 3
   },
   "file_extension": ".py",
   "mimetype": "text/x-python",
   "name": "python",
   "nbconvert_exporter": "python",
   "pygments_lexer": "ipython3",
   "version": "3.11.5"
  }
 },
 "nbformat": 4,
 "nbformat_minor": 2
}
